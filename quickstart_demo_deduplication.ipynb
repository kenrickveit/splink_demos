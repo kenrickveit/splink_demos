{
 "cells": [
  {
   "cell_type": "markdown",
   "metadata": {},
   "source": [
    "## Splink deduplication demo \n",
    "\n",
    "In this demo we de-duplicate a small dataset.\n",
    "\n",
    "The purpose is to provide an end-to-end example of how to use the package\n",
    "\n",
    "I print the output at each stage using `spark_dataframe.show()`.  This is for instructional purposes only - it degrades performance and shouldn't be used in a production setting."
   ]
  },
  {
   "cell_type": "markdown",
   "metadata": {},
   "source": [
    "## Step 1:  Imports and setup\n",
    "\n",
    "The following is just boilerplate code that sets up the Spark session and sets some other non-essential configuration options"
   ]
  },
  {
   "cell_type": "code",
   "execution_count": 1,
   "metadata": {},
   "outputs": [
    {
     "data": {
      "application/vnd.jupyter.widget-view+json": {
       "model_id": "dee21cffd9954b088bd0068ec77742db",
       "version_major": 2,
       "version_minor": 0
      },
      "text/plain": [
       "VBox()"
      ]
     },
     "metadata": {},
     "output_type": "display_data"
    },
    {
     "name": "stdout",
     "output_type": "stream",
     "text": [
      "Starting Spark application\n"
     ]
    },
    {
     "data": {
      "text/html": [
       "<table>\n",
       "<tr><th>ID</th><th>YARN Application ID</th><th>Kind</th><th>State</th><th>Spark UI</th><th>Driver log</th><th>Current session?</th></tr><tr><td>0</td><td>application_1604358633194_0001</td><td>pyspark</td><td>idle</td><td><a target=\"_blank\" href=\"http://ip-10-10-3-8.ec2.internal:20888/proxy/application_1604358633194_0001/\">Link</a></td><td><a target=\"_blank\" href=\"http://ip-10-10-3-114.ec2.internal:8042/node/containerlogs/container_1604358633194_0001_01_000001/livy\">Link</a></td><td>✔</td></tr></table>"
      ],
      "text/plain": [
       "<IPython.core.display.HTML object>"
      ]
     },
     "metadata": {},
     "output_type": "display_data"
    },
    {
     "data": {
      "application/vnd.jupyter.widget-view+json": {
       "model_id": "",
       "version_major": 2,
       "version_minor": 0
      },
      "text/plain": [
       "FloatProgress(value=0.0, bar_style='info', description='Progress:', layout=Layout(height='25px', width='50%'),…"
      ]
     },
     "metadata": {},
     "output_type": "display_data"
    },
    {
     "name": "stdout",
     "output_type": "stream",
     "text": [
      "SparkSession available as 'spark'.\n"
     ]
    },
    {
     "data": {
      "application/vnd.jupyter.widget-view+json": {
       "model_id": "",
       "version_major": 2,
       "version_minor": 0
      },
      "text/plain": [
       "FloatProgress(value=0.0, bar_style='info', description='Progress:', layout=Layout(height='25px', width='50%'),…"
      ]
     },
     "metadata": {},
     "output_type": "display_data"
    }
   ],
   "source": [
    "import pandas as pd \n",
    "pd.options.display.max_columns = 500\n",
    "pd.options.display.max_rows = 100"
   ]
  },
  {
   "cell_type": "code",
   "execution_count": 2,
   "metadata": {},
   "outputs": [
    {
     "data": {
      "application/vnd.jupyter.widget-view+json": {
       "model_id": "33bbebb9119646eeb1a134b4e364deea",
       "version_major": 2,
       "version_minor": 0
      },
      "text/plain": [
       "VBox()"
      ]
     },
     "metadata": {},
     "output_type": "display_data"
    },
    {
     "data": {
      "application/vnd.jupyter.widget-view+json": {
       "model_id": "",
       "version_major": 2,
       "version_minor": 0
      },
      "text/plain": [
       "FloatProgress(value=0.0, bar_style='info', description='Progress:', layout=Layout(height='25px', width='50%'),…"
      ]
     },
     "metadata": {},
     "output_type": "display_data"
    }
   ],
   "source": [
    "import logging \n",
    "logging.basicConfig()  # Means logs will print in Jupyter Lab\n",
    "\n",
    "# Set to DEBUG if you want splink to log the SQL statements it's executing under the hood\n",
    "logging.getLogger(\"splink\").setLevel(logging.INFO)"
   ]
  },
  {
   "cell_type": "code",
   "execution_count": 3,
   "metadata": {},
   "outputs": [
    {
     "data": {
      "application/vnd.jupyter.widget-view+json": {
       "model_id": "251e038948084331ad9ce52cdc10a8d7",
       "version_major": 2,
       "version_minor": 0
      },
      "text/plain": [
       "VBox()"
      ]
     },
     "metadata": {},
     "output_type": "display_data"
    },
    {
     "data": {
      "application/vnd.jupyter.widget-view+json": {
       "model_id": "",
       "version_major": 2,
       "version_minor": 0
      },
      "text/plain": [
       "FloatProgress(value=0.0, bar_style='info', description='Progress:', layout=Layout(height='25px', width='50%'),…"
      ]
     },
     "metadata": {},
     "output_type": "display_data"
    }
   ],
   "source": [
    "from utility_functions.demo_utils import get_spark\n",
    "spark = get_spark() # See utility_functions/demo_utils.py for how to set up Spark"
   ]
  },
  {
   "cell_type": "markdown",
   "metadata": {},
   "source": [
    "## Step 2:  Read in data"
   ]
  },
  {
   "cell_type": "code",
   "execution_count": 4,
   "metadata": {},
   "outputs": [
    {
     "data": {
      "application/vnd.jupyter.widget-view+json": {
       "model_id": "feafc4564b2d45e3bd65e645f9f5a6f7",
       "version_major": 2,
       "version_minor": 0
      },
      "text/plain": [
       "VBox()"
      ]
     },
     "metadata": {},
     "output_type": "display_data"
    },
    {
     "data": {
      "application/vnd.jupyter.widget-view+json": {
       "model_id": "",
       "version_major": 2,
       "version_minor": 0
      },
      "text/plain": [
       "FloatProgress(value=0.0, bar_style='info', description='Progress:', layout=Layout(height='25px', width='50%'),…"
      ]
     },
     "metadata": {},
     "output_type": "display_data"
    },
    {
     "name": "stdout",
     "output_type": "stream",
     "text": [
      "+---------+----------+-------+----------+------+--------------------+-----+\n",
      "|unique_id|first_name|surname|       dob|  city|               email|group|\n",
      "+---------+----------+-------+----------+------+--------------------+-----+\n",
      "|        0|    Julia |   null|2015-10-29|London| hannah88@powers.com|    0|\n",
      "|        1|    Julia | Taylor|2015-07-31|London| hannah88@powers.com|    0|\n",
      "|        2|    Julia | Taylor|2016-01-27|London| hannah88@powers.com|    0|\n",
      "|        3|    Julia | Taylor|2015-10-29|  null|  hannah88opowersc@m|    0|\n",
      "|        4|      oNah| Watson|2008-03-23|Bolton|matthew78@ballard...|    1|\n",
      "+---------+----------+-------+----------+------+--------------------+-----+\n",
      "only showing top 5 rows"
     ]
    }
   ],
   "source": [
    "# Changed to use S3 versus local filesystem so this works in an EMR Notebook\n",
    "df = spark.read.parquet(\"s3://splink-emr-init-test/data/fake_1000.parquet\")\n",
    "df.show(5)"
   ]
  },
  {
   "cell_type": "markdown",
   "metadata": {},
   "source": [
    "## Step 3:  Configure splink using the `settings` object\n",
    "\n",
    "Most of `splink` configuration options are stored in a settings dictionary.  This dictionary allows significant customisation, and can therefore get quite complex.  \n",
    "\n",
    "💥 We provide an tool for helping to author valid settings dictionaries, which includes tooltips and autocomplete, which you can find [here](http://robinlinacre.com/splink_settings_editor/).\n",
    "\n",
    "Customisation overrides default values built into splink.  For the purposes of this demo, we will specify a simple settings dictionary, which means we will be relying on these sensible defaults.\n",
    "\n",
    "To help with authoring and validation of the settings dictionary, we have written a [json schema](https://json-schema.org/), which can be found [here](https://github.com/moj-analytical-services/splink/blob/master/splink/files/settings_jsonschema.json).  \n",
    "\n",
    "\n"
   ]
  },
  {
   "cell_type": "code",
   "execution_count": 5,
   "metadata": {},
   "outputs": [
    {
     "data": {
      "application/vnd.jupyter.widget-view+json": {
       "model_id": "1b28acee52624bd48d125ff76f9b390a",
       "version_major": 2,
       "version_minor": 0
      },
      "text/plain": [
       "VBox()"
      ]
     },
     "metadata": {},
     "output_type": "display_data"
    },
    {
     "data": {
      "application/vnd.jupyter.widget-view+json": {
       "model_id": "",
       "version_major": 2,
       "version_minor": 0
      },
      "text/plain": [
       "FloatProgress(value=0.0, bar_style='info', description='Progress:', layout=Layout(height='25px', width='50%'),…"
      ]
     },
     "metadata": {},
     "output_type": "display_data"
    }
   ],
   "source": [
    "settings = {\n",
    "    \"link_type\": \"dedupe_only\",\n",
    "    \"blocking_rules\": [\n",
    "        \"l.first_name = r.first_name\",\n",
    "        \"l.surname = r.surname\",\n",
    "        \"l.dob = r.dob\"\n",
    "    ],\n",
    "    \"comparison_columns\": [\n",
    "        {\n",
    "            \"col_name\": \"first_name\",\n",
    "            \"num_levels\": 3,\n",
    "            \"term_frequency_adjustments\": True\n",
    "        },\n",
    "        {\n",
    "            \"col_name\": \"surname\",\n",
    "            \"num_levels\": 3,\n",
    "            \"term_frequency_adjustments\": True\n",
    "        },\n",
    "        {\n",
    "            \"col_name\": \"dob\"\n",
    "        },\n",
    "        {\n",
    "            \"col_name\": \"city\"\n",
    "        },\n",
    "        {\n",
    "            \"col_name\": \"email\"\n",
    "        }\n",
    "    ],\n",
    "    \"additional_columns_to_retain\": [\"group\"],\n",
    "    \"em_convergence\": 0.01\n",
    "}"
   ]
  },
  {
   "cell_type": "markdown",
   "metadata": {},
   "source": [
    "In words, this setting dictionary says:\n",
    "- We are performing a deduplication task (the other options are `link_only`, or `link_and_dedupe`)\n",
    "- We are going generate comparisons subject to the blocking rules contained in the specified array\n",
    "- When comparing records, we will use information from the `first_name`, `surname`, `dob`, `city` and `email` columns to compute a match score.\n",
    "- For `first_name` and `surname`, string comparisons will have three levels:\n",
    "    - Level 2: Strings are (almost) exactly the same\n",
    "    - Level 1: Strings are similar \n",
    "    - Level 0: No match\n",
    "- We will make adjustments for term frequencies on the `first_name` and `surname` columns\n",
    "- We will retain the `group` column in the results even though this is not used as part of comparisons.  This is a labelled dataset and `group` contains the true match - i.e. where group matches, the records pertain to the same person\n",
    "- Consider the algorithm to have converged when no parameter changes by more than 0.01 between iterations"
   ]
  },
  {
   "cell_type": "markdown",
   "metadata": {},
   "source": [
    "## Step 4:  Estimate match scores using the Expectation Maximisation algorithm\n",
    "Columns are assumed to be strings by default.  See the 'comparison vector settings' notebook for details of configuration options."
   ]
  },
  {
   "cell_type": "code",
   "execution_count": 6,
   "metadata": {},
   "outputs": [
    {
     "data": {
      "application/vnd.jupyter.widget-view+json": {
       "model_id": "059bf0644deb480d90a8f766cc42c324",
       "version_major": 2,
       "version_minor": 0
      },
      "text/plain": [
       "VBox()"
      ]
     },
     "metadata": {},
     "output_type": "display_data"
    },
    {
     "data": {
      "application/vnd.jupyter.widget-view+json": {
       "model_id": "",
       "version_major": 2,
       "version_minor": 0
      },
      "text/plain": [
       "FloatProgress(value=0.0, bar_style='info', description='Progress:', layout=Layout(height='25px', width='50%'),…"
      ]
     },
     "metadata": {},
     "output_type": "display_data"
    }
   ],
   "source": [
    "from splink import Splink\n",
    "\n",
    "linker = Splink(settings, spark, df=df)\n",
    "df_e = linker.get_scored_comparisons()\n"
   ]
  },
  {
   "cell_type": "markdown",
   "metadata": {},
   "source": [
    "## Step 5: Inspect results \n",
    "\n"
   ]
  },
  {
   "cell_type": "code",
   "execution_count": 7,
   "metadata": {},
   "outputs": [
    {
     "data": {
      "application/vnd.jupyter.widget-view+json": {
       "model_id": "60a34a9892cc45078f953d391ecea3f1",
       "version_major": 2,
       "version_minor": 0
      },
      "text/plain": [
       "VBox()"
      ]
     },
     "metadata": {},
     "output_type": "display_data"
    },
    {
     "data": {
      "application/vnd.jupyter.widget-view+json": {
       "model_id": "",
       "version_major": 2,
       "version_minor": 0
      },
      "text/plain": [
       "FloatProgress(value=0.0, bar_style='info', description='Progress:', layout=Layout(height='25px', width='50%'),…"
      ]
     },
     "metadata": {},
     "output_type": "display_data"
    },
    {
     "name": "stdout",
     "output_type": "stream",
     "text": [
      "      match_probability  unique_id_l  unique_id_r  group_l  group_r  \\\n",
      "2              0.985811            0            1        0        0   \n",
      "1              0.985811            0            2        0        0   \n",
      "0              0.999646            0            3        0        0   \n",
      "4              0.983115            1            2        0        0   \n",
      "3              0.916171            1            3        0        0   \n",
      "2290           0.027342            1           89        0       18   \n",
      "2289           0.027342            1          142        0       26   \n",
      "2288           0.027342            1          148        0       26   \n",
      "4821           0.792436            1          246        0       43   \n",
      "2287           0.039123            1          362        0       62   \n",
      "\n",
      "     first_name_l first_name_r surname_l surname_r       dob_l       dob_r  \\\n",
      "2          Julia        Julia       None    Taylor  2015-10-29  2015-07-31   \n",
      "1          Julia        Julia       None    Taylor  2015-10-29  2016-01-27   \n",
      "0          Julia        Julia       None    Taylor  2015-10-29  2015-10-29   \n",
      "4          Julia        Julia     Taylor    Taylor  2015-07-31  2016-01-27   \n",
      "3          Julia        Julia     Taylor    Taylor  2015-07-31  2015-10-29   \n",
      "2290       Julia       Chirla     Taylor    Taylor  2015-07-31  2006-06-28   \n",
      "2289       Julia        Harry     Taylor    Taylor  2015-07-31  2017-11-24   \n",
      "2288       Julia        Harry     Taylor    Taylor  2015-07-31  2017-09-01   \n",
      "4821       Julia      Harrison    Taylor   Joshua   2015-07-31  2015-07-31   \n",
      "2287       Julia          None    Taylor    Taylor  2015-07-31  1989-07-25   \n",
      "\n",
      "      city_l           city_r              email_l                 email_r  \n",
      "2     London           London  hannah88@powers.com     hannah88@powers.com  \n",
      "1     London           London  hannah88@powers.com     hannah88@powers.com  \n",
      "0     London             None  hannah88@powers.com      hannah88opowersc@m  \n",
      "4     London           London  hannah88@powers.com     hannah88@powers.com  \n",
      "3     London             None  hannah88@powers.com      hannah88opowersc@m  \n",
      "2290  London           London  hannah88@powers.com      mbrooks@booker.com  \n",
      "2289  London           London  hannah88@powers.com       coltonray@lee.com  \n",
      "2288  London           London  hannah88@powers.com       coltonray@lee.com  \n",
      "4821  London  Southend-on-Sea  hannah88@powers.com                    None  \n",
      "2287  London           London  hannah88@powers.com  wagnershane@landry.com"
     ]
    }
   ],
   "source": [
    "# Inspect main dataframe that contains the match scores\n",
    "cols_to_inspect = [\"match_probability\",\"unique_id_l\",\"unique_id_r\",\"group_l\", \"group_r\", \"first_name_l\",\"first_name_r\",\"surname_l\",\"surname_r\",\"dob_l\",\"dob_r\",\"city_l\",\"city_r\",\"email_l\",\"email_r\",]\n",
    "\n",
    "df_e.toPandas()[cols_to_inspect].sort_values([\"unique_id_l\", \"unique_id_r\"]).head(10)"
   ]
  },
  {
   "cell_type": "code",
   "execution_count": 8,
   "metadata": {},
   "outputs": [
    {
     "data": {
      "application/vnd.jupyter.widget-view+json": {
       "model_id": "fa303ad43b1f44c697c79ff2c248f291",
       "version_major": 2,
       "version_minor": 0
      },
      "text/plain": [
       "VBox()"
      ]
     },
     "metadata": {},
     "output_type": "display_data"
    },
    {
     "data": {
      "application/vnd.jupyter.widget-view+json": {
       "model_id": "",
       "version_major": 2,
       "version_minor": 0
      },
      "text/plain": [
       "FloatProgress(value=0.0, bar_style='info', description='Progress:', layout=Layout(height='25px', width='50%'),…"
      ]
     },
     "metadata": {},
     "output_type": "display_data"
    },
    {
     "name": "stdout",
     "output_type": "stream",
     "text": [
      "      tf_adjusted_match_prob  match_probability  unique_id_l  unique_id_r  \\\n",
      "0                   0.999989           0.999646            0            3   \n",
      "1                   0.999566           0.985811            0            2   \n",
      "2                   0.999566           0.985811            0            1   \n",
      "3                   0.988398           0.916171            1            3   \n",
      "4                   0.997802           0.983115            1            2   \n",
      "...                      ...                ...          ...          ...   \n",
      "5706                0.999920           0.999920          984          985   \n",
      "5707                0.999884           0.999884          991          996   \n",
      "5708                0.987535           0.987535          991          994   \n",
      "5709                0.999998           0.999998          992          996   \n",
      "5710                0.999824           0.999824          992          994   \n",
      "\n",
      "     first_name_l first_name_r  gamma_first_name  \\\n",
      "0          Julia        Julia                  2   \n",
      "1          Julia        Julia                  2   \n",
      "2          Julia        Julia                  2   \n",
      "3          Julia        Julia                  2   \n",
      "4          Julia        Julia                  2   \n",
      "...           ...          ...               ...   \n",
      "5706        Laal          None                -1   \n",
      "5707         liL         Lily                  0   \n",
      "5708         liL         Lily                  0   \n",
      "5709         ily         Lily                  1   \n",
      "5710         ily         Lily                  1   \n",
      "\n",
      "      prob_gamma_first_name_non_match  prob_gamma_first_name_match  \\\n",
      "0                            0.472290                     0.567037   \n",
      "1                            0.472290                     0.567037   \n",
      "2                            0.472290                     0.567037   \n",
      "3                            0.472290                     0.567037   \n",
      "4                            0.472290                     0.567037   \n",
      "...                               ...                          ...   \n",
      "5706                         1.000000                     1.000000   \n",
      "5707                         0.526308                     0.363365   \n",
      "5708                         0.526308                     0.363365   \n",
      "5709                         0.001403                     0.069598   \n",
      "5710                         0.001403                     0.069598   \n",
      "\n",
      "      first_name_tf_adj surname_l surname_r  gamma_surname  \\\n",
      "0              0.970694      None    Taylor             -1   \n",
      "1              0.970694      None    Taylor             -1   \n",
      "2              0.970694      None    Taylor             -1   \n",
      "3              0.970694    Taylor    Taylor              2   \n",
      "4              0.970694    Taylor    Taylor              2   \n",
      "...                 ...       ...       ...            ...   \n",
      "5706           0.500000      Ball      None             -1   \n",
      "5707           0.500000     Young      None             -1   \n",
      "5708           0.500000     Young      Ynuo              0   \n",
      "5709           0.500000     Young      None             -1   \n",
      "5710           0.500000     Young      Ynuo              0   \n",
      "\n",
      "      prob_gamma_surname_non_match  prob_gamma_surname_match  surname_tf_adj  \\\n",
      "0                         1.000000                  1.000000         0.50000   \n",
      "1                         1.000000                  1.000000         0.50000   \n",
      "2                         1.000000                  1.000000         0.50000   \n",
      "3                         0.673685                  0.564559         0.19051   \n",
      "4                         0.673685                  0.564559         0.19051   \n",
      "...                            ...                       ...             ...   \n",
      "5706                      1.000000                  1.000000         0.50000   \n",
      "5707                      1.000000                  1.000000         0.50000   \n",
      "5708                      0.326083                  0.376637         0.50000   \n",
      "5709                      1.000000                  1.000000         0.50000   \n",
      "5710                      0.326083                  0.376637         0.50000   \n",
      "\n",
      "           dob_l       dob_r  gamma_dob  prob_gamma_dob_non_match  \\\n",
      "0     2015-10-29  2015-10-29          1                  0.031396   \n",
      "1     2015-10-29  2016-01-27          0                  0.968604   \n",
      "2     2015-10-29  2015-07-31          0                  0.968604   \n",
      "3     2015-07-31  2015-10-29          0                  0.968604   \n",
      "4     2015-07-31  2016-01-27          0                  0.968604   \n",
      "...          ...         ...        ...                       ...   \n",
      "5706  1992-04-02  1992-04-02          1                  0.031396   \n",
      "5707  1995-09-05  1995-09-05          1                  0.031396   \n",
      "5708  1995-09-05  1995-09-05          1                  0.031396   \n",
      "5709  1995-09-05  1995-09-05          1                  0.031396   \n",
      "5710  1995-09-05  1995-09-05          1                  0.031396   \n",
      "\n",
      "      prob_gamma_dob_match               city_l               city_r  \\\n",
      "0                 0.875362               London                 None   \n",
      "1                 0.124638               London               London   \n",
      "2                 0.124638               London               London   \n",
      "3                 0.124638               London                 None   \n",
      "4                 0.124638               London               London   \n",
      "...                    ...                  ...                  ...   \n",
      "5706              0.875362  Newcastle-upon-Tyne  Newcastle-upon-Tyne   \n",
      "5707              0.875362               London               London   \n",
      "5708              0.875362               London               London   \n",
      "5709              0.875362               London               London   \n",
      "5710              0.875362               London               London   \n",
      "\n",
      "      gamma_city  prob_gamma_city_non_match  prob_gamma_city_match  \\\n",
      "0             -1                    1.00000               1.000000   \n",
      "1              1                    0.14658               0.780896   \n",
      "2              1                    0.14658               0.780896   \n",
      "3             -1                    1.00000               1.000000   \n",
      "4              1                    0.14658               0.780896   \n",
      "...          ...                        ...                    ...   \n",
      "5706           1                    0.14658               0.780896   \n",
      "5707           1                    0.14658               0.780896   \n",
      "5708           1                    0.14658               0.780896   \n",
      "5709           1                    0.14658               0.780896   \n",
      "5710           1                    0.14658               0.780896   \n",
      "\n",
      "                    email_l                email_r  gamma_email  \\\n",
      "0       hannah88@powers.com     hannah88opowersc@m            1   \n",
      "1       hannah88@powers.com    hannah88@powers.com            1   \n",
      "2       hannah88@powers.com    hannah88@powers.com            1   \n",
      "3       hannah88@powers.com     hannah88opowersc@m            1   \n",
      "4       hannah88@powers.com    hannah88@powers.com            1   \n",
      "...                     ...                    ...          ...   \n",
      "5706  stacykelly@brown.info  stacykelly@brown.info            1   \n",
      "5707  wesleykidd@miller.com  wesleykidd@miller.com            1   \n",
      "5708  wesleykidd@miller.com                   None           -1   \n",
      "5709  wesleykidd@miller.com  wesleykidd@miller.com            1   \n",
      "5710  wesleykidd@miller.com                   None           -1   \n",
      "\n",
      "      prob_gamma_email_non_match  prob_gamma_email_match  group_l  group_r  \n",
      "0                       0.007089                0.894782        0        0  \n",
      "1                       0.007089                0.894782        0        0  \n",
      "2                       0.007089                0.894782        0        0  \n",
      "3                       0.007089                0.894782        0        0  \n",
      "4                       0.007089                0.894782        0        0  \n",
      "...                          ...                     ...      ...      ...  \n",
      "5706                    0.007089                0.894782      176      176  \n",
      "5707                    0.007089                0.894782      179      179  \n",
      "5708                    1.000000                1.000000      179      179  \n",
      "5709                    0.007089                0.894782      179      179  \n",
      "5710                    1.000000                1.000000      179      179  \n",
      "\n",
      "[5711 rows x 33 columns]"
     ]
    }
   ],
   "source": [
    "df_e.toPandas()"
   ]
  },
  {
   "cell_type": "markdown",
   "metadata": {},
   "source": [
    "The `params` property of the `linker` is an object that contains a lot of diagnostic information about how the match probability was computed.  The following cells demonstrate some of its functionality"
   ]
  },
  {
   "cell_type": "code",
   "execution_count": 17,
   "metadata": {},
   "outputs": [
    {
     "data": {
      "application/vnd.jupyter.widget-view+json": {
       "model_id": "491eb0b7d86c4adc9b4971155947c471",
       "version_major": 2,
       "version_minor": 0
      },
      "text/plain": [
       "VBox()"
      ]
     },
     "metadata": {},
     "output_type": "display_data"
    },
    {
     "data": {
      "application/vnd.jupyter.widget-view+json": {
       "model_id": "",
       "version_major": 2,
       "version_minor": 0
      },
      "text/plain": [
       "FloatProgress(value=0.0, bar_style='info', description='Progress:', layout=Layout(height='25px', width='50%'),…"
      ]
     },
     "metadata": {},
     "output_type": "display_data"
    },
    {
     "name": "stdout",
     "output_type": "stream",
     "text": [
      "alt.HConcatChart(...)"
     ]
    }
   ],
   "source": [
    "params = linker.params\n",
    "params.probability_distribution_chart()"
   ]
  },
  {
   "cell_type": "markdown",
   "metadata": {},
   "source": [
    "An alternative representation of the parameters displays them in terms of the effect different values in the comparison vectors have on the match probability:"
   ]
  },
  {
   "cell_type": "code",
   "execution_count": 18,
   "metadata": {},
   "outputs": [
    {
     "data": {
      "application/vnd.jupyter.widget-view+json": {
       "model_id": "b911856eca574104a0fb5c6f0fd7a776",
       "version_major": 2,
       "version_minor": 0
      },
      "text/plain": [
       "VBox()"
      ]
     },
     "metadata": {},
     "output_type": "display_data"
    },
    {
     "data": {
      "application/vnd.jupyter.widget-view+json": {
       "model_id": "",
       "version_major": 2,
       "version_minor": 0
      },
      "text/plain": [
       "FloatProgress(value=0.0, bar_style='info', description='Progress:', layout=Layout(height='25px', width='50%'),…"
      ]
     },
     "metadata": {},
     "output_type": "display_data"
    },
    {
     "name": "stderr",
     "output_type": "stream",
     "text": [
      "'Params' object has no attribute 'adjustment_factor_chart'\n",
      "Traceback (most recent call last):\n",
      "AttributeError: 'Params' object has no attribute 'adjustment_factor_chart'\n",
      "\n"
     ]
    }
   ],
   "source": [
    "# This references a chart that has been removed from Splink (Kenrick)\n",
    "params.adjustment_factor_chart()"
   ]
  },
  {
   "cell_type": "code",
   "execution_count": 19,
   "metadata": {},
   "outputs": [
    {
     "data": {
      "application/vnd.jupyter.widget-view+json": {
       "model_id": "e3b7d5dbe632440f929b4a971e34a5b3",
       "version_major": 2,
       "version_minor": 0
      },
      "text/plain": [
       "VBox()"
      ]
     },
     "metadata": {},
     "output_type": "display_data"
    },
    {
     "data": {
      "application/vnd.jupyter.widget-view+json": {
       "model_id": "",
       "version_major": 2,
       "version_minor": 0
      },
      "text/plain": [
       "FloatProgress(value=0.0, bar_style='info', description='Progress:', layout=Layout(height='25px', width='50%'),…"
      ]
     },
     "metadata": {},
     "output_type": "display_data"
    },
    {
     "name": "stderr",
     "output_type": "stream",
     "text": [
      "[Errno 13] Permission denied: 'splink_charts.html'\n",
      "Traceback (most recent call last):\n",
      "  File \"/usr/local/lib/python3.7/site-packages/splink/params.py\", line 534, in all_charts_write_html_file\n",
      "    with open(filename, \"w\") as f:\n",
      "PermissionError: [Errno 13] Permission denied: 'splink_charts.html'\n",
      "\n"
     ]
    }
   ],
   "source": [
    "# If charts aren't displaying correctly in your notebook, you can write them to a file (by default splink_charts.html)\n",
    "# This function by MoJ Analytical Services is not compatible with a distributed file system like S3\n",
    "params.all_charts_write_html_file(filename=\"splink_charts.html\", overwrite=True)"
   ]
  },
  {
   "cell_type": "markdown",
   "metadata": {},
   "source": [
    "You can also generate a report which explains how the match probability was computed for an individual comparison row.  \n",
    "\n",
    "Note that you need to convert the row to a dictionary for this to work"
   ]
  },
  {
   "cell_type": "code",
   "execution_count": 23,
   "metadata": {},
   "outputs": [
    {
     "data": {
      "application/vnd.jupyter.widget-view+json": {
       "model_id": "91ec8b67d02045e2b6f114bdce8f4423",
       "version_major": 2,
       "version_minor": 0
      },
      "text/plain": [
       "VBox()"
      ]
     },
     "metadata": {},
     "output_type": "display_data"
    },
    {
     "data": {
      "application/vnd.jupyter.widget-view+json": {
       "model_id": "",
       "version_major": 2,
       "version_minor": 0
      },
      "text/plain": [
       "FloatProgress(value=0.0, bar_style='info', description='Progress:', layout=Layout(height='25px', width='50%'),…"
      ]
     },
     "metadata": {},
     "output_type": "display_data"
    },
    {
     "name": "stdout",
     "output_type": "stream",
     "text": [
      "\n",
      "Initial probability of match (prior) = λ = 0.4007764458656311\n",
      "\n",
      "Comparison of first_name.  Values are:\n",
      "first_name_l: Alfie \n",
      "first_name_r: None\n",
      "Comparison has 3 levels\n",
      "𝛾 for this comparison = gamma_first_name = -1\n",
      "Amongst matches, m = P(𝛾|match) = 1.0\n",
      "Amongst non matches, u = P(𝛾|non-match) = 1.0\n",
      "Bayes factor = m/u = 1.0\n",
      "New probability of match (updated belief): 0.4007764458656311\n",
      "\n",
      "Comparison of surname.  Values are:\n",
      "surname_l: Tyolr\n",
      "surname_r: Taylor\n",
      "Comparison has 3 levels\n",
      "𝛾 for this comparison = gamma_surname = 1\n",
      "Amongst matches, m = P(𝛾|match) = 0.058804191648960114\n",
      "Amongst non matches, u = P(𝛾|non-match) = 0.00023243666510097682\n",
      "Bayes factor = m/u = 252.99017099309168\n",
      "New probability of match (updated belief): 0.9941247826389082\n",
      "\n",
      "Comparison of dob.  Values are:\n",
      "dob_l: 2005-06-20\n",
      "dob_r: 2005-06-20\n",
      "Comparison has 2 levels\n",
      "𝛾 for this comparison = gamma_dob = 1\n",
      "Amongst matches, m = P(𝛾|match) = 0.8753615617752075\n",
      "Amongst non matches, u = P(𝛾|non-match) = 0.0313960500061512\n",
      "Bayes factor = m/u = 27.88126409544208\n",
      "New probability of match (updated belief): 0.9997880767863725\n",
      "\n",
      "Comparison of city.  Values are:\n",
      "city_l: London\n",
      "city_r: London\n",
      "Comparison has 2 levels\n",
      "𝛾 for this comparison = gamma_city = 1\n",
      "Amongst matches, m = P(𝛾|match) = 0.7808963060379028\n",
      "Amongst non matches, u = P(𝛾|non-match) = 0.14657972753047943\n",
      "Bayes factor = m/u = 5.327450931954592\n",
      "New probability of match (updated belief): 0.9999602136736931\n",
      "\n",
      "Comparison of email.  Values are:\n",
      "email_l: None\n",
      "email_r: michellejackson@smith-trujillo.com\n",
      "Comparison has 2 levels\n",
      "𝛾 for this comparison = gamma_email = -1\n",
      "Amongst matches, m = P(𝛾|match) = 1.0\n",
      "Amongst non matches, u = P(𝛾|non-match) = 1.0\n",
      "Bayes factor = m/u = 1.0\n",
      "New probability of match (updated belief): 0.9999602136736931\n",
      "\n",
      "Final probability of match = 0.9999602136736931"
     ]
    }
   ],
   "source": [
    "from splink.intuition import intuition_report\n",
    "row_dict = df_e.toPandas().sample(1).to_dict(orient=\"records\")[0]\n",
    "print(intuition_report(row_dict, params))"
   ]
  },
  {
   "cell_type": "markdown",
   "metadata": {},
   "source": [
    "# Use graphframes to resolve links into groups"
   ]
  },
  {
   "cell_type": "code",
   "execution_count": 21,
   "metadata": {},
   "outputs": [
    {
     "data": {
      "application/vnd.jupyter.widget-view+json": {
       "model_id": "145b8f3aac1d4e3db5185029e5933381",
       "version_major": 2,
       "version_minor": 0
      },
      "text/plain": [
       "VBox()"
      ]
     },
     "metadata": {},
     "output_type": "display_data"
    },
    {
     "data": {
      "application/vnd.jupyter.widget-view+json": {
       "model_id": "",
       "version_major": 2,
       "version_minor": 0
      },
      "text/plain": [
       "FloatProgress(value=0.0, bar_style='info', description='Progress:', layout=Layout(height='25px', width='50%'),…"
      ]
     },
     "metadata": {},
     "output_type": "display_data"
    },
    {
     "name": "stdout",
     "output_type": "stream",
     "text": [
      "    estimated_group  unique_id first_name    surname         dob  \\\n",
      "0                 0          2     Julia      Taylor  2016-01-27   \n",
      "1                 0          0     Julia        None  2015-10-29   \n",
      "2                 0          1     Julia      Taylor  2015-07-31   \n",
      "3                 0          3     Julia      Taylor  2015-10-29   \n",
      "4                 4          6     Watson      Noah   2008-03-23   \n",
      "5                 4         11     Watson      Noah   2008-01-21   \n",
      "6                 4          8     Watson      Noah   2008-06-15   \n",
      "7                 4          5      Noah      Watson  2008-03-23   \n",
      "8                 4         10     Watson      Noah   2008-03-23   \n",
      "9                 4          4       oNah     Watson  2008-03-23   \n",
      "10                7          7      Noah      Watson  2008-02-05   \n",
      "11                9          9      Noah      Watson  2008-01-19   \n",
      "12               12         12      Noah        None  2008-03-23   \n",
      "13               13         13     Molly        Bell  2002-01-05   \n",
      "14               13         14      Moly        Bell  2002-01-05   \n",
      "15               15         15  Alexander    Amelia   1983-05-19   \n",
      "16               16         16    Amelia   Alexander  1983-05-19   \n",
      "17               17         18    Amelia   Alexander  1983-05-19   \n",
      "18               17         17    Amelia   Alexander  1983-04-30   \n",
      "19               17         19     lmeAi   Alexander  1983-05-19   \n",
      "20               20         20     Ol vri    ynnollC  1972-03-08   \n",
      "21               20         22       None   Connolly  1972-03-08   \n",
      "22               21         21    Oliver    Connolly  1972-03-08   \n",
      "23               23         26     Ollie    Thompson  1996-03-22   \n",
      "24               23         23       None   Thompson  1996-03-22   \n",
      "25               23         24   Thompson     Ollie   1996-03-22   \n",
      "26               25         25       None   Thompson  1995-12-18   \n",
      "27               27         30   Matilda      Harris  1983-03-03   \n",
      "28               27         27   Matilda       Hsrir  1983-04-30   \n",
      "29               27         28   Matilda        None  1983-04-30   \n",
      "\n",
      "            city                           email  group  \n",
      "0         London             hannah88@powers.com      0  \n",
      "1         London             hannah88@powers.com      0  \n",
      "2         London             hannah88@powers.com      0  \n",
      "3           None              hannah88opowersc@m      0  \n",
      "4           None  matthew78@ballard-mcdonald.net      1  \n",
      "5          Bolno   matthea78@bwllar-mcdonald.net      1  \n",
      "6         Bolton  matthew78@ballard-mcdonald.net      1  \n",
      "7         Bolton  matthew78@ballard-mcdonald.net      1  \n",
      "8         Bolton   matthbw78eallard-mcdonald.net      1  \n",
      "9         Bolton  matthew78@ballard-mcdonald.net      1  \n",
      "10         tolon  matthew78@ballard-mcdonald.net      1  \n",
      "11        Bolton                            None      1  \n",
      "12         Blotn                            None      1  \n",
      "13  Peterborough                            None      2  \n",
      "14  Peterborough    lricsaunders@sievaadams.info      2  \n",
      "15       Glasgow        ic-mpbell@allealewis.org      3  \n",
      "16        Glaogw                            None      3  \n",
      "17       Glasgow       icampbell@allen-lewis.org      3  \n",
      "18       Glasgow        icampbeal@lllen-lews.org      3  \n",
      "19       Glasgow       icampbell@allen-lewis.org      3  \n",
      "20      Plymouth        derekwilliams@norris.com      4  \n",
      "21       Plyohtu        derekwilliams@norris.com      4  \n",
      "22      Plymouth                            None      4  \n",
      "23         Leeds    jefferyduke@brown-alazar.org      5  \n",
      "24         Leeds   jefferyduke@brown-salazar.org      5  \n",
      "25          None   jefferyduke@brown-salazar.org      5  \n",
      "26         Leeds                            None      5  \n",
      "27        London            patricia47@davis.com      6  \n",
      "28        London             patrcio47@davis.cam      6  \n",
      "29        London            patricia47@davis.com      6"
     ]
    }
   ],
   "source": [
    "from graphframes import GraphFrame\n",
    "\n",
    "\n",
    "df_e.createOrReplaceTempView(\"df_e\")\n",
    "sql = \"\"\"\n",
    "select unique_id_l as id\n",
    "from df_e\n",
    "union\n",
    "select unique_id_r as id\n",
    "from df_e\n",
    "\"\"\"\n",
    "nodes = spark.sql(sql)\n",
    "\n",
    "sql = \"\"\"\n",
    "select\n",
    "unique_id_l as src,\n",
    "unique_id_r as dst,\n",
    "tf_adjusted_match_prob\n",
    "from df_e\n",
    "where tf_adjusted_match_prob > 0.99\n",
    "\"\"\"\n",
    "edges = spark.sql(sql)\n",
    "\n",
    "g = GraphFrame(nodes, edges)\n",
    "\n",
    "cc = g.connectedComponents()\n",
    "\n",
    "cc.createOrReplaceTempView(\"cc\")\n",
    "df.createOrReplaceTempView(\"df\")\n",
    "sql = \"\"\"\n",
    "select cc.component as estimated_group, df.*\n",
    "from cc\n",
    "left join\n",
    "df \n",
    "on cc.id = df.unique_id\n",
    "order by group, estimated_group\n",
    "\"\"\"\n",
    "results = spark.sql(sql)\n",
    "results.toPandas().head(30)"
   ]
  },
  {
   "cell_type": "code",
   "execution_count": null,
   "metadata": {},
   "outputs": [],
   "source": []
  },
  {
   "cell_type": "code",
   "execution_count": null,
   "metadata": {},
   "outputs": [],
   "source": []
  },
  {
   "cell_type": "code",
   "execution_count": null,
   "metadata": {},
   "outputs": [],
   "source": []
  },
  {
   "cell_type": "code",
   "execution_count": null,
   "metadata": {},
   "outputs": [],
   "source": []
  }
 ],
 "metadata": {
  "kernelspec": {
   "display_name": "PySpark",
   "language": "",
   "name": "pysparkkernel"
  },
  "language_info": {
   "codemirror_mode": {
    "name": "python",
    "version": 2
   },
   "mimetype": "text/x-python",
   "name": "pyspark",
   "pygments_lexer": "python2"
  }
 },
 "nbformat": 4,
 "nbformat_minor": 4
}
